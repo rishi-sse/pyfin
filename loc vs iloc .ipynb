{
 "cells": [
  {
   "cell_type": "code",
   "execution_count": 2,
   "metadata": {},
   "outputs": [],
   "source": [
    "import numpy as np\n",
    "import pandas as pd\n",
    "import pandas_datareader.data as web\n",
    "import matplotlib.pyplot as plt"
   ]
  },
  {
   "cell_type": "code",
   "execution_count": 8,
   "metadata": {},
   "outputs": [],
   "source": [
    "tickers = ['FB', 'AAPL', 'NFLX', 'GOOG']\n",
    "data = pd.DataFrame()\n",
    "for t in tickers:\n",
    "    data[t] = web.DataReader(t, data_source = 'yahoo', start = '2020-06-01')['Adj Close']"
   ]
  },
  {
   "cell_type": "markdown",
   "metadata": {},
   "source": [
    "### Let us first look at the data and see the elements. I chose Jun 01,2020 to reduce my observations in the dataframe. "
   ]
  },
  {
   "cell_type": "code",
   "execution_count": 10,
   "metadata": {},
   "outputs": [
    {
     "data": {
      "text/html": [
       "<div>\n",
       "<style scoped>\n",
       "    .dataframe tbody tr th:only-of-type {\n",
       "        vertical-align: middle;\n",
       "    }\n",
       "\n",
       "    .dataframe tbody tr th {\n",
       "        vertical-align: top;\n",
       "    }\n",
       "\n",
       "    .dataframe thead th {\n",
       "        text-align: right;\n",
       "    }\n",
       "</style>\n",
       "<table border=\"1\" class=\"dataframe\">\n",
       "  <thead>\n",
       "    <tr style=\"text-align: right;\">\n",
       "      <th></th>\n",
       "      <th>FB</th>\n",
       "      <th>AAPL</th>\n",
       "      <th>NFLX</th>\n",
       "      <th>GOOG</th>\n",
       "    </tr>\n",
       "    <tr>\n",
       "      <th>Date</th>\n",
       "      <th></th>\n",
       "      <th></th>\n",
       "      <th></th>\n",
       "      <th></th>\n",
       "    </tr>\n",
       "  </thead>\n",
       "  <tbody>\n",
       "    <tr>\n",
       "      <th>2020-06-01</th>\n",
       "      <td>231.910004</td>\n",
       "      <td>321.850006</td>\n",
       "      <td>425.920013</td>\n",
       "      <td>1431.819946</td>\n",
       "    </tr>\n",
       "    <tr>\n",
       "      <th>2020-06-02</th>\n",
       "      <td>232.720001</td>\n",
       "      <td>323.339996</td>\n",
       "      <td>427.309998</td>\n",
       "      <td>1439.219971</td>\n",
       "    </tr>\n",
       "    <tr>\n",
       "      <th>2020-06-03</th>\n",
       "      <td>230.160004</td>\n",
       "      <td>325.119995</td>\n",
       "      <td>421.970001</td>\n",
       "      <td>1436.380005</td>\n",
       "    </tr>\n",
       "    <tr>\n",
       "      <th>2020-06-04</th>\n",
       "      <td>226.289993</td>\n",
       "      <td>322.320007</td>\n",
       "      <td>414.329987</td>\n",
       "      <td>1412.180054</td>\n",
       "    </tr>\n",
       "    <tr>\n",
       "      <th>2020-06-05</th>\n",
       "      <td>230.770004</td>\n",
       "      <td>331.500000</td>\n",
       "      <td>419.600006</td>\n",
       "      <td>1438.390015</td>\n",
       "    </tr>\n",
       "    <tr>\n",
       "      <th>2020-06-08</th>\n",
       "      <td>231.399994</td>\n",
       "      <td>333.459991</td>\n",
       "      <td>419.489990</td>\n",
       "      <td>1446.609985</td>\n",
       "    </tr>\n",
       "    <tr>\n",
       "      <th>2020-06-09</th>\n",
       "      <td>238.669998</td>\n",
       "      <td>343.989990</td>\n",
       "      <td>434.049988</td>\n",
       "      <td>1456.160034</td>\n",
       "    </tr>\n",
       "    <tr>\n",
       "      <th>2020-06-10</th>\n",
       "      <td>236.729996</td>\n",
       "      <td>352.839996</td>\n",
       "      <td>434.480011</td>\n",
       "      <td>1465.849976</td>\n",
       "    </tr>\n",
       "    <tr>\n",
       "      <th>2020-06-11</th>\n",
       "      <td>231.240005</td>\n",
       "      <td>347.141388</td>\n",
       "      <td>438.480011</td>\n",
       "      <td>1437.339966</td>\n",
       "    </tr>\n",
       "  </tbody>\n",
       "</table>\n",
       "</div>"
      ],
      "text/plain": [
       "                    FB        AAPL        NFLX         GOOG\n",
       "Date                                                       \n",
       "2020-06-01  231.910004  321.850006  425.920013  1431.819946\n",
       "2020-06-02  232.720001  323.339996  427.309998  1439.219971\n",
       "2020-06-03  230.160004  325.119995  421.970001  1436.380005\n",
       "2020-06-04  226.289993  322.320007  414.329987  1412.180054\n",
       "2020-06-05  230.770004  331.500000  419.600006  1438.390015\n",
       "2020-06-08  231.399994  333.459991  419.489990  1446.609985\n",
       "2020-06-09  238.669998  343.989990  434.049988  1456.160034\n",
       "2020-06-10  236.729996  352.839996  434.480011  1465.849976\n",
       "2020-06-11  231.240005  347.141388  438.480011  1437.339966"
      ]
     },
     "execution_count": 10,
     "metadata": {},
     "output_type": "execute_result"
    }
   ],
   "source": [
    "data"
   ]
  },
  {
   "cell_type": "code",
   "execution_count": 11,
   "metadata": {},
   "outputs": [
    {
     "data": {
      "text/plain": [
       "FB       231.910004\n",
       "AAPL     321.850006\n",
       "NFLX     425.920013\n",
       "GOOG    1431.819946\n",
       "Name: 2020-06-01 00:00:00, dtype: float64"
      ]
     },
     "execution_count": 11,
     "metadata": {},
     "output_type": "execute_result"
    }
   ],
   "source": [
    "### If I want to select the first row of the Dataframe\n",
    "data.iloc[0]"
   ]
  },
  {
   "cell_type": "code",
   "execution_count": 12,
   "metadata": {},
   "outputs": [
    {
     "data": {
      "text/plain": [
       "FB       231.910004\n",
       "AAPL     321.850006\n",
       "NFLX     425.920013\n",
       "GOOG    1431.819946\n",
       "Name: 2020-06-01 00:00:00, dtype: float64"
      ]
     },
     "execution_count": 12,
     "metadata": {},
     "output_type": "execute_result"
    }
   ],
   "source": [
    "### If I want to select the first row of the Dataframe using 'loc' function\n",
    "data.loc['2020-06-01']"
   ]
  },
  {
   "cell_type": "code",
   "execution_count": null,
   "metadata": {},
   "outputs": [],
   "source": []
  }
 ],
 "metadata": {
  "kernelspec": {
   "display_name": "Python 3",
   "language": "python",
   "name": "python3"
  },
  "language_info": {
   "codemirror_mode": {
    "name": "ipython",
    "version": 3
   },
   "file_extension": ".py",
   "mimetype": "text/x-python",
   "name": "python",
   "nbconvert_exporter": "python",
   "pygments_lexer": "ipython3",
   "version": "3.7.6"
  }
 },
 "nbformat": 4,
 "nbformat_minor": 4
}
