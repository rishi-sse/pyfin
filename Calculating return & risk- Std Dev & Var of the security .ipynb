{
 "cells": [
  {
   "cell_type": "code",
   "execution_count": 2,
   "metadata": {},
   "outputs": [],
   "source": [
    "import pandas as pd\n",
    "import numpy as np\n",
    "import pandas_datareader.data as web\n",
    "import matplotlib.pyplot as plt"
   ]
  },
  {
   "cell_type": "code",
   "execution_count": 3,
   "metadata": {},
   "outputs": [],
   "source": [
    "tickers = ['TCS.NS', '^BSESN', 'INFY.BO', 'SBIN.NS']"
   ]
  },
  {
   "cell_type": "markdown",
   "metadata": {},
   "source": [
    "I have chosen TCS, INFOSYS and SBI - and compared them against the BSE 30 index by calculating the log return and standard deviation"
   ]
  },
  {
   "cell_type": "code",
   "execution_count": 5,
   "metadata": {},
   "outputs": [],
   "source": [
    "data = pd.DataFrame()\n",
    "for t in tickers:\n",
    "    data[t] = web.DataReader(t, data_source = 'yahoo', start = '2000-1-1-')['Adj Close']"
   ]
  },
  {
   "cell_type": "markdown",
   "metadata": {},
   "source": [
    "# Daily Log Returns"
   ]
  },
  {
   "cell_type": "code",
   "execution_count": 10,
   "metadata": {},
   "outputs": [
    {
     "data": {
      "text/html": [
       "<div>\n",
       "<style scoped>\n",
       "    .dataframe tbody tr th:only-of-type {\n",
       "        vertical-align: middle;\n",
       "    }\n",
       "\n",
       "    .dataframe tbody tr th {\n",
       "        vertical-align: top;\n",
       "    }\n",
       "\n",
       "    .dataframe thead th {\n",
       "        text-align: right;\n",
       "    }\n",
       "</style>\n",
       "<table border=\"1\" class=\"dataframe\">\n",
       "  <thead>\n",
       "    <tr style=\"text-align: right;\">\n",
       "      <th></th>\n",
       "      <th>TCS.NS</th>\n",
       "      <th>^BSESN</th>\n",
       "      <th>INFY.BO</th>\n",
       "      <th>SBIN.NS</th>\n",
       "    </tr>\n",
       "    <tr>\n",
       "      <th>Date</th>\n",
       "      <th></th>\n",
       "      <th></th>\n",
       "      <th></th>\n",
       "      <th></th>\n",
       "    </tr>\n",
       "  </thead>\n",
       "  <tbody>\n",
       "    <tr>\n",
       "      <th>2004-08-25</th>\n",
       "      <td>NaN</td>\n",
       "      <td>NaN</td>\n",
       "      <td>NaN</td>\n",
       "      <td>NaN</td>\n",
       "    </tr>\n",
       "    <tr>\n",
       "      <th>2004-08-26</th>\n",
       "      <td>-0.009102</td>\n",
       "      <td>0.009173</td>\n",
       "      <td>NaN</td>\n",
       "      <td>0.010376</td>\n",
       "    </tr>\n",
       "    <tr>\n",
       "      <th>2004-08-27</th>\n",
       "      <td>-0.016836</td>\n",
       "      <td>-0.003597</td>\n",
       "      <td>NaN</td>\n",
       "      <td>-0.004022</td>\n",
       "    </tr>\n",
       "    <tr>\n",
       "      <th>2004-08-30</th>\n",
       "      <td>0.024731</td>\n",
       "      <td>0.013479</td>\n",
       "      <td>NaN</td>\n",
       "      <td>0.025243</td>\n",
       "    </tr>\n",
       "    <tr>\n",
       "      <th>2004-08-31</th>\n",
       "      <td>0.001353</td>\n",
       "      <td>0.001085</td>\n",
       "      <td>NaN</td>\n",
       "      <td>-0.005518</td>\n",
       "    </tr>\n",
       "    <tr>\n",
       "      <th>...</th>\n",
       "      <td>...</td>\n",
       "      <td>...</td>\n",
       "      <td>...</td>\n",
       "      <td>...</td>\n",
       "    </tr>\n",
       "    <tr>\n",
       "      <th>2020-06-05</th>\n",
       "      <td>-0.020920</td>\n",
       "      <td>0.008981</td>\n",
       "      <td>-0.005738</td>\n",
       "      <td>0.076035</td>\n",
       "    </tr>\n",
       "    <tr>\n",
       "      <th>2020-06-08</th>\n",
       "      <td>0.011408</td>\n",
       "      <td>0.002428</td>\n",
       "      <td>0.023592</td>\n",
       "      <td>-0.005339</td>\n",
       "    </tr>\n",
       "    <tr>\n",
       "      <th>2020-06-09</th>\n",
       "      <td>0.000145</td>\n",
       "      <td>-0.012115</td>\n",
       "      <td>-0.003893</td>\n",
       "      <td>-0.012660</td>\n",
       "    </tr>\n",
       "    <tr>\n",
       "      <th>2020-06-10</th>\n",
       "      <td>0.017557</td>\n",
       "      <td>0.008515</td>\n",
       "      <td>-0.002651</td>\n",
       "      <td>0.017467</td>\n",
       "    </tr>\n",
       "    <tr>\n",
       "      <th>2020-06-11</th>\n",
       "      <td>-0.019683</td>\n",
       "      <td>-0.020910</td>\n",
       "      <td>-0.017261</td>\n",
       "      <td>-0.057848</td>\n",
       "    </tr>\n",
       "  </tbody>\n",
       "</table>\n",
       "<p>3886 rows × 4 columns</p>\n",
       "</div>"
      ],
      "text/plain": [
       "              TCS.NS    ^BSESN   INFY.BO   SBIN.NS\n",
       "Date                                              \n",
       "2004-08-25       NaN       NaN       NaN       NaN\n",
       "2004-08-26 -0.009102  0.009173       NaN  0.010376\n",
       "2004-08-27 -0.016836 -0.003597       NaN -0.004022\n",
       "2004-08-30  0.024731  0.013479       NaN  0.025243\n",
       "2004-08-31  0.001353  0.001085       NaN -0.005518\n",
       "...              ...       ...       ...       ...\n",
       "2020-06-05 -0.020920  0.008981 -0.005738  0.076035\n",
       "2020-06-08  0.011408  0.002428  0.023592 -0.005339\n",
       "2020-06-09  0.000145 -0.012115 -0.003893 -0.012660\n",
       "2020-06-10  0.017557  0.008515 -0.002651  0.017467\n",
       "2020-06-11 -0.019683 -0.020910 -0.017261 -0.057848\n",
       "\n",
       "[3886 rows x 4 columns]"
      ]
     },
     "execution_count": 10,
     "metadata": {},
     "output_type": "execute_result"
    }
   ],
   "source": [
    "log_returns = np.log(data / data.shift(1))\n",
    "log_returns"
   ]
  },
  {
   "cell_type": "code",
   "execution_count": 13,
   "metadata": {},
   "outputs": [
    {
     "data": {
      "text/plain": [
       "pandas.core.frame.DataFrame"
      ]
     },
     "execution_count": 13,
     "metadata": {},
     "output_type": "execute_result"
    }
   ],
   "source": [
    "type(log_returns)"
   ]
  },
  {
   "cell_type": "markdown",
   "metadata": {},
   "source": [
    "## Annual Mean return"
   ]
  },
  {
   "cell_type": "code",
   "execution_count": 11,
   "metadata": {},
   "outputs": [
    {
     "data": {
      "text/plain": [
       "TCS.NS     0.221972\n",
       "^BSESN     0.116344\n",
       "INFY.BO    0.178060\n",
       "SBIN.NS    0.209087\n",
       "dtype: float64"
      ]
     },
     "execution_count": 11,
     "metadata": {},
     "output_type": "execute_result"
    }
   ],
   "source": [
    "log_returns.mean() * 250 "
   ]
  },
  {
   "cell_type": "markdown",
   "metadata": {},
   "source": [
    "## Annual Standard Deviation"
   ]
  },
  {
   "cell_type": "code",
   "execution_count": 12,
   "metadata": {},
   "outputs": [
    {
     "data": {
      "text/plain": [
       "TCS.NS     0.391195\n",
       "^BSESN     0.226433\n",
       "INFY.BO    0.287479\n",
       "SBIN.NS    0.392722\n",
       "dtype: float64"
      ]
     },
     "execution_count": 12,
     "metadata": {},
     "output_type": "execute_result"
    }
   ],
   "source": [
    "log_returns.std() * 250 ** 0.5"
   ]
  },
  {
   "cell_type": "markdown",
   "metadata": {},
   "source": [
    "## Another way to caluculate Annual mean return - using [ [ ] ]\n",
    "In this method - we are creating a two dimensional array by using two set of square brackets. "
   ]
  },
  {
   "cell_type": "code",
   "execution_count": 15,
   "metadata": {},
   "outputs": [
    {
     "data": {
      "text/plain": [
       "TCS.NS     0.221972\n",
       "^BSESN     0.116344\n",
       "INFY.BO    0.178060\n",
       "SBIN.NS    0.209087\n",
       "dtype: float64"
      ]
     },
     "execution_count": 15,
     "metadata": {},
     "output_type": "execute_result"
    }
   ],
   "source": [
    "log_returns[['TCS.NS', '^BSESN', 'INFY.BO', 'SBIN.NS']].mean() * 250"
   ]
  },
  {
   "cell_type": "markdown",
   "metadata": {},
   "source": [
    "## Variance"
   ]
  },
  {
   "cell_type": "markdown",
   "metadata": {},
   "source": [
    "### Individual method"
   ]
  },
  {
   "cell_type": "code",
   "execution_count": 17,
   "metadata": {},
   "outputs": [
    {
     "name": "stdout",
     "output_type": "stream",
     "text": [
      "0.0006121327976728316\n",
      "0.0002050870793666803\n",
      "0.0003305765755823283\n",
      "0.000616923497685173\n"
     ]
    }
   ],
   "source": [
    "#Individual variances - Daily\n",
    "for t in tickers:\n",
    "    print(log_returns[t].var())"
   ]
  },
  {
   "cell_type": "code",
   "execution_count": 18,
   "metadata": {},
   "outputs": [
    {
     "name": "stdout",
     "output_type": "stream",
     "text": [
      "0.1530331994182079\n",
      "0.051271769841670076\n",
      "0.08264414389558207\n",
      "0.15423087442129327\n"
     ]
    }
   ],
   "source": [
    "#Individual variances - annually \n",
    "for t in tickers:\n",
    "    print(log_returns[t].var() * 250)"
   ]
  },
  {
   "cell_type": "markdown",
   "metadata": {},
   "source": [
    "### Direct Method"
   ]
  },
  {
   "cell_type": "code",
   "execution_count": 19,
   "metadata": {},
   "outputs": [
    {
     "data": {
      "text/plain": [
       "TCS.NS     0.153033\n",
       "^BSESN     0.051272\n",
       "INFY.BO    0.082644\n",
       "SBIN.NS    0.154231\n",
       "dtype: float64"
      ]
     },
     "execution_count": 19,
     "metadata": {},
     "output_type": "execute_result"
    }
   ],
   "source": [
    "#Direct method - annual variance\n",
    "log_returns.var() * 250"
   ]
  },
  {
   "cell_type": "markdown",
   "metadata": {},
   "source": [
    "## Covariance Matrix"
   ]
  },
  {
   "cell_type": "code",
   "execution_count": 21,
   "metadata": {},
   "outputs": [
    {
     "data": {
      "text/html": [
       "<div>\n",
       "<style scoped>\n",
       "    .dataframe tbody tr th:only-of-type {\n",
       "        vertical-align: middle;\n",
       "    }\n",
       "\n",
       "    .dataframe tbody tr th {\n",
       "        vertical-align: top;\n",
       "    }\n",
       "\n",
       "    .dataframe thead th {\n",
       "        text-align: right;\n",
       "    }\n",
       "</style>\n",
       "<table border=\"1\" class=\"dataframe\">\n",
       "  <thead>\n",
       "    <tr style=\"text-align: right;\">\n",
       "      <th></th>\n",
       "      <th>TCS.NS</th>\n",
       "      <th>^BSESN</th>\n",
       "      <th>INFY.BO</th>\n",
       "      <th>SBIN.NS</th>\n",
       "    </tr>\n",
       "  </thead>\n",
       "  <tbody>\n",
       "    <tr>\n",
       "      <th>TCS.NS</th>\n",
       "      <td>0.153033</td>\n",
       "      <td>0.040382</td>\n",
       "      <td>0.032597</td>\n",
       "      <td>0.033697</td>\n",
       "    </tr>\n",
       "    <tr>\n",
       "      <th>^BSESN</th>\n",
       "      <td>0.040382</td>\n",
       "      <td>0.051272</td>\n",
       "      <td>0.020703</td>\n",
       "      <td>0.059616</td>\n",
       "    </tr>\n",
       "    <tr>\n",
       "      <th>INFY.BO</th>\n",
       "      <td>0.032597</td>\n",
       "      <td>0.020703</td>\n",
       "      <td>0.082644</td>\n",
       "      <td>0.013890</td>\n",
       "    </tr>\n",
       "    <tr>\n",
       "      <th>SBIN.NS</th>\n",
       "      <td>0.033697</td>\n",
       "      <td>0.059616</td>\n",
       "      <td>0.013890</td>\n",
       "      <td>0.154231</td>\n",
       "    </tr>\n",
       "  </tbody>\n",
       "</table>\n",
       "</div>"
      ],
      "text/plain": [
       "           TCS.NS    ^BSESN   INFY.BO   SBIN.NS\n",
       "TCS.NS   0.153033  0.040382  0.032597  0.033697\n",
       "^BSESN   0.040382  0.051272  0.020703  0.059616\n",
       "INFY.BO  0.032597  0.020703  0.082644  0.013890\n",
       "SBIN.NS  0.033697  0.059616  0.013890  0.154231"
      ]
     },
     "execution_count": 21,
     "metadata": {},
     "output_type": "execute_result"
    }
   ],
   "source": [
    "cov_matrix = log_returns.cov() *250\n",
    "cov_matrix"
   ]
  },
  {
   "cell_type": "markdown",
   "metadata": {},
   "source": [
    "## Correlation Matrix"
   ]
  },
  {
   "cell_type": "code",
   "execution_count": 23,
   "metadata": {},
   "outputs": [
    {
     "data": {
      "text/html": [
       "<div>\n",
       "<style scoped>\n",
       "    .dataframe tbody tr th:only-of-type {\n",
       "        vertical-align: middle;\n",
       "    }\n",
       "\n",
       "    .dataframe tbody tr th {\n",
       "        vertical-align: top;\n",
       "    }\n",
       "\n",
       "    .dataframe thead th {\n",
       "        text-align: right;\n",
       "    }\n",
       "</style>\n",
       "<table border=\"1\" class=\"dataframe\">\n",
       "  <thead>\n",
       "    <tr style=\"text-align: right;\">\n",
       "      <th></th>\n",
       "      <th>TCS.NS</th>\n",
       "      <th>^BSESN</th>\n",
       "      <th>INFY.BO</th>\n",
       "      <th>SBIN.NS</th>\n",
       "    </tr>\n",
       "  </thead>\n",
       "  <tbody>\n",
       "    <tr>\n",
       "      <th>TCS.NS</th>\n",
       "      <td>1.000000</td>\n",
       "      <td>0.571529</td>\n",
       "      <td>0.455603</td>\n",
       "      <td>0.275191</td>\n",
       "    </tr>\n",
       "    <tr>\n",
       "      <th>^BSESN</th>\n",
       "      <td>0.571529</td>\n",
       "      <td>1.000000</td>\n",
       "      <td>0.417877</td>\n",
       "      <td>0.669553</td>\n",
       "    </tr>\n",
       "    <tr>\n",
       "      <th>INFY.BO</th>\n",
       "      <td>0.455603</td>\n",
       "      <td>0.417877</td>\n",
       "      <td>1.000000</td>\n",
       "      <td>0.135210</td>\n",
       "    </tr>\n",
       "    <tr>\n",
       "      <th>SBIN.NS</th>\n",
       "      <td>0.275191</td>\n",
       "      <td>0.669553</td>\n",
       "      <td>0.135210</td>\n",
       "      <td>1.000000</td>\n",
       "    </tr>\n",
       "  </tbody>\n",
       "</table>\n",
       "</div>"
      ],
      "text/plain": [
       "           TCS.NS    ^BSESN   INFY.BO   SBIN.NS\n",
       "TCS.NS   1.000000  0.571529  0.455603  0.275191\n",
       "^BSESN   0.571529  1.000000  0.417877  0.669553\n",
       "INFY.BO  0.455603  0.417877  1.000000  0.135210\n",
       "SBIN.NS  0.275191  0.669553  0.135210  1.000000"
      ]
     },
     "execution_count": 23,
     "metadata": {},
     "output_type": "execute_result"
    }
   ],
   "source": [
    "corr_matrix = log_returns.corr() \n",
    "corr_matrix"
   ]
  },
  {
   "cell_type": "markdown",
   "metadata": {},
   "source": [
    "### Note we don't need to annualize it as it is not having any average value and just shows the correlation, whereas covariance is variance if we consider covariance of a variable with itself, therefore, covariance needs to be annualized"
   ]
  },
  {
   "cell_type": "code",
   "execution_count": null,
   "metadata": {},
   "outputs": [],
   "source": []
  },
  {
   "cell_type": "code",
   "execution_count": null,
   "metadata": {},
   "outputs": [],
   "source": []
  },
  {
   "cell_type": "code",
   "execution_count": null,
   "metadata": {},
   "outputs": [],
   "source": []
  }
 ],
 "metadata": {
  "kernelspec": {
   "display_name": "Python 3",
   "language": "python",
   "name": "python3"
  },
  "language_info": {
   "codemirror_mode": {
    "name": "ipython",
    "version": 3
   },
   "file_extension": ".py",
   "mimetype": "text/x-python",
   "name": "python",
   "nbconvert_exporter": "python",
   "pygments_lexer": "ipython3",
   "version": "3.7.6"
  }
 },
 "nbformat": 4,
 "nbformat_minor": 4
}
